{
 "cells": [
  {
   "cell_type": "markdown",
   "metadata": {},
   "source": [
    "## Convolutional Neural Network on 2D images, step by step increase of computer vision\n",
    "Tensorflow and Keras are used for modeling.\n",
    "\n",
    "### Process:\n",
    "•\tFirst the images are fed and image content is reduced to look at enhanced features for specific details. The convolution layers are added prior to dense filters.\n",
    "•\tSize of convolution is a 3x3 grid. Convolution is followed by maxpooling layer effectively reducing image by 25%\n",
    "•\tTraining is done on highlighted features obtained after convolution.\n",
    "•\tThe first layer the shape of input data is fed\n"
   ]
  },
  {
   "cell_type": "code",
   "execution_count": 3,
   "metadata": {},
   "outputs": [
    {
     "name": "stdout",
     "output_type": "stream",
     "text": [
      "Model: \"sequential\"\n",
      "_________________________________________________________________\n",
      "Layer (type)                 Output Shape              Param #   \n",
      "=================================================================\n",
      "conv2d_1 (Conv2D)            (None, 26, 26, 64)        640       \n",
      "_________________________________________________________________\n",
      "max_pooling2d (MaxPooling2D) (None, 13, 13, 64)        0         \n",
      "_________________________________________________________________\n",
      "conv2d_2 (Conv2D)            (None, 11, 11, 64)        36928     \n",
      "_________________________________________________________________\n",
      "max_pooling2d_1 (MaxPooling2 (None, 5, 5, 64)          0         \n",
      "_________________________________________________________________\n",
      "flatten (Flatten)            (None, 1600)              0         \n",
      "_________________________________________________________________\n",
      "dense (Dense)                (None, 128)               204928    \n",
      "_________________________________________________________________\n",
      "dense_1 (Dense)              (None, 10)                1290      \n",
      "=================================================================\n",
      "Total params: 243,786\n",
      "Trainable params: 243,786\n",
      "Non-trainable params: 0\n",
      "_________________________________________________________________\n",
      "Epoch 1/5\n",
      "60000/60000 [==============================] - 75s 1ms/sample - loss: 0.4306 - acc: 0.8456\n",
      "Epoch 2/5\n",
      "60000/60000 [==============================] - 61s 1ms/sample - loss: 0.2870 - acc: 0.8938\n",
      "Epoch 3/5\n",
      "60000/60000 [==============================] - 73s 1ms/sample - loss: 0.2428 - acc: 0.9092\n",
      "Epoch 4/5\n",
      "60000/60000 [==============================] - 73s 1ms/sample - loss: 0.2123 - acc: 0.9206\n",
      "Epoch 5/5\n",
      "60000/60000 [==============================] - 74s 1ms/sample - loss: 0.1869 - acc: 0.9299\n",
      "10000/10000 [==============================] - 5s 523us/sample - loss: 0.2494 - acc: 0.9100\n"
     ]
    }
   ],
   "source": [
    "#import tensorflow\n",
    "import tensorflow as tf\n",
    "\n",
    "#load fashion mnist data set, the data set has train and test\n",
    "mnist = tf.keras.datasets.fashion_mnist\n",
    "(training_images, training_labels), (test_images, test_labels) =mnist.load_data()\n",
    "\n",
    "# convert 28x28 pixel square images with 1byte gray scale into 4d Tensor, there are 60,000 training images\n",
    "training_images = training_images.reshape(60000,28,28,1)\n",
    "test_images = test_images.reshape(10000,28,28,1)\n",
    "\n",
    "# normalize images to be between 0 and 1\n",
    "training_images = training_images/255.0\n",
    "test_images = test_images/255.0\n",
    "\n",
    "# Define Neural Net model, Sequential: That defines a SEQUENCE of layers in the neural network\n",
    "model = tf.keras.models.Sequential([\n",
    "# Number of Convolutions =64. each input image will have 64 convoluted images. The size of the Convolution filter is a 3x3 grid \n",
    "    tf.keras.layers.Conv2D(64,(3,3), activation='relu', input_shape=(28,28,1)),\n",
    "#Pooling creates a 2x2 array of pixels, and picks the biggest one, thus turning 4 pixels into 1 across all images\n",
    "    tf.keras.layers.MaxPooling2D(2,2),\n",
    "# Convolution one more time    \n",
    "    tf.keras.layers.Conv2D(64,(3,3), activation='relu'),\n",
    "    tf.keras.layers.MaxPooling2D(2,2),\n",
    "# Flattens to 1 dimensional set from square    \n",
    "    tf.keras.layers.Flatten(),\n",
    "    \n",
    "# Dense: adds a Layer with 128 neurons, at each layer activation function with relu tells to drop negative numbers and only pass non-negative numbers to next layer   \n",
    "    tf.keras.layers.Dense(128, activation='relu'),\n",
    "# Output layer with 10 features where Softmax takes a set of values, and effectively picks the biggest one,  \n",
    "    tf.keras.layers.Dense(10, activation='softmax')\n",
    "])\n",
    "\n",
    "#build the model\n",
    "model.compile(optimizer = 'adam',\n",
    "             loss= 'sparse_categorical_crossentropy',\n",
    "             metrics=['accuracy'])\n",
    "model.summary()\n",
    "#train the model for number of epochs or iterations\n",
    "model.fit(training_images, training_labels, epochs=5)\n",
    "\n",
    "#test with unseen data\n",
    "test_loss = model.evaluate(test_images, test_labels)\n"
   ]
  },
  {
   "cell_type": "code",
   "execution_count": 4,
   "metadata": {},
   "outputs": [
    {
     "name": "stdout",
     "output_type": "stream",
     "text": [
      "[9 2 1 1 6 1 4 6 5 7 4 5 7 3 4 1 2 4 8 0 2 5 7 9 1 4 6 0 9 3 8 8 3 3 8 0 7\n",
      " 5 7 9 6 1 3 7 6 7 2 1 2 2 4 4 5 8 2 2 8 4 8 0 7 7 8 5 1 1 2 3 9 8 7 0 2 6\n",
      " 2 3 1 2 8 4 1 8 5 9 5 0 3 2 0 6 5 3 6 7 1 8 0 1 4 2]\n"
     ]
    }
   ],
   "source": [
    "## Visualizing Convolutions and pooling, print first 100 labels of test set\n",
    "print(test_labels[:100])"
   ]
  },
  {
   "cell_type": "code",
   "execution_count": 9,
   "metadata": {},
   "outputs": [
    {
     "data": {
      "image/png": "[encoded data removed]",
      "text/plain": [
       "<Figure size 432x288 with 12 Axes>"
      ]
     },
     "metadata": {
      "needs_background": "light"
     },
     "output_type": "display_data"
    }
   ],
   "source": [
    "import matplotlib.pyplot as plt\n",
    "# define subplot in matplot where f below is Figure and axarr defines subplots(3,4) means three rows and 4 columns of images, axarr stands for axes arrary",
    "f, axarr = plt.subplots(3,4)\n",
    "FIRST_IMAGE=0\n",
    "SECOND_IMAGE=2\n",
    "THIRD_IMAGE=33\n",
    "CONVOLUTION_NUMBER = 1\n",
    "from tensorflow.keras import models\n",
    "layer_outputs = [layer.output for layer in model.layers]\n",
    "activation_model = tf.keras.models.Model(inputs = model.input, outputs = layer_outputs)\n",
    "for x in range(0,4):\n",
    "  f1 = activation_model.predict(test_images[FIRST_IMAGE].reshape(1, 28, 28, 1))[x]\n",
    "  axarr[0,x].imshow(f1[0, : , :, CONVOLUTION_NUMBER], cmap='inferno')\n",
    "  axarr[0,x].grid(False)\n",
    "  f2 = activation_model.predict(test_images[SECOND_IMAGE].reshape(1, 28, 28, 1))[x]\n",
    "  axarr[1,x].imshow(f2[0, : , :, CONVOLUTION_NUMBER], cmap='inferno')\n",
    "  #axarr[1,x].grid(False)\n",
    "  f3 = activation_model.predict(test_images[THIRD_IMAGE].reshape(1, 28, 28, 1))[x]\n",
    "  axarr[2,x].imshow(f3[0, : , :, CONVOLUTION_NUMBER], cmap='inferno')\n",
    "  axarr[2,x].grid(False)"
   ]
  }
 ],
 "metadata": {
  "kernelspec": {
   "display_name": "Python 3",
   "language": "python",
   "name": "python3"
  },
  "language_info": {
   "codemirror_mode": {
    "name": "ipython",
    "version": 3
   },
   "file_extension": ".py",
   "mimetype": "text/x-python",
   "name": "python",
   "nbconvert_exporter": "python",
   "pygments_lexer": "ipython3",
   "version": "3.7.4"
  }
 },
 "nbformat": 4,
 "nbformat_minor": 2
}
